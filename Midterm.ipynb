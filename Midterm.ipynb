{
 "cells": [
  {
   "cell_type": "code",
   "execution_count": null,
   "id": "31f51cf6",
   "metadata": {},
   "outputs": [],
   "source": [
    "#MIDTERM EXAM - NOV 3/23 - Shirin Mautbur Student No: 200591440"
   ]
  },
  {
   "cell_type": "code",
   "execution_count": null,
   "id": "2219e629",
   "metadata": {},
   "outputs": [],
   "source": [
    "#Question 21 - class Segment that represents a line segment, computes length and slope :"
   ]
  },
  {
   "cell_type": "code",
   "execution_count": 76,
   "id": "98b35f21",
   "metadata": {},
   "outputs": [
    {
     "name": "stdout",
     "output_type": "stream",
     "text": [
      "p1: (3, 4)\n",
      "p2: (0, 0)\n",
      "The length of the line segment is:  5.0\n",
      "\n",
      "The slope of the line segment is:  1.3333333333333333\n"
     ]
    }
   ],
   "source": [
    "class Point():\n",
    "    'class that represents point in the plane'\n",
    "    def __init__(self, xcoord=0, ycoord=0): #initialize variables of Point\n",
    "        self.x = xcoord\n",
    "        self.y = ycoord\n",
    "        \n",
    "    def get(self):\n",
    "        return (self.x, self.y)\n",
    "\n",
    "class Segment(Point):\n",
    "    'class that is a sub-class of Point, inherits from Point, and reprensents a line segment made up of 2 Point objects'\n",
    "    \n",
    "    def __init__(self, point1, point2):   #initialize variables of Segment\n",
    "        self.x1 = point1.x\n",
    "        self.y1 = point1.y\n",
    "        self.x2 = point2.x\n",
    "        self.y2 = point2.y\n",
    "        \n",
    "        \n",
    "    def get(self):\n",
    "       # return (self.x1, self.y1, self.x2, self.y2) \n",
    "        return (self.x1,self.y1, self.x2,self.y2)\n",
    "    \n",
    "    def length(self):\n",
    "        import math\n",
    "        segment_length = math.sqrt(((self.x2- self.x1))**2 + ((self.y2-self.y1))**2)  \n",
    "        return(segment_length)\n",
    "    \n",
    "    def slope(self):\n",
    "        try:\n",
    "            slope = (self.y2 - self.y1)/(self.x2 - self.x1)\n",
    "            return (slope)\n",
    "        except:\n",
    "            print('Slope out of bounds.')    \n",
    "       \n",
    "p1 = Point(3,4)\n",
    "p1.get()\n",
    "p2 = Point() \n",
    "p2.get()\n",
    "p1.get()\n",
    "print('p1:', p1.get())\n",
    "print('p2:', p2.get())\n",
    "\n",
    "s=Segment(p1,p2)\n",
    "s.get()\n",
    "print('The length of the line segment is: ', s.length())\n",
    "#s.length()\n",
    "print()\n",
    "print('The slope of the line segment is: ', s.slope())\n"
   ]
  },
  {
   "cell_type": "code",
   "execution_count": null,
   "id": "19f79b77",
   "metadata": {},
   "outputs": [],
   "source": [
    "#Question 22 -  Using both python and SQL, create Weather Table and query it :"
   ]
  },
  {
   "cell_type": "code",
   "execution_count": 84,
   "id": "829c522c",
   "metadata": {},
   "outputs": [
    {
     "data": {
      "text/plain": [
       "<sqlite3.Cursor at 0x2265b2b25c0>"
      ]
     },
     "execution_count": 84,
     "metadata": {},
     "output_type": "execute_result"
    }
   ],
   "source": [
    "#\n",
    "#\n",
    "import sqlite3\n",
    "con = sqlite3.connect('weather2.db')\n",
    "cur = con.cursor()\n",
    "cur.execute(\"CREATE TABLE WeatherTable (id int, recordDate date, temperature int, yest_temp int)\")\n",
    "cur.execute(\"INSERT INTO WeatherTable VALUES (1, '2015-01-01', 10, 10)\")\n",
    "cur.execute(\"INSERT INTO WeatherTable VALUES (2, '2015-01-02', 25, 10)\")\n",
    "cur.execute(\"INSERT INTO WeatherTable VALUES (3, '2015-01-03', 20, 25)\")\n",
    "cur.execute(\"INSERT INTO WeatherTable VALUES (4, '2015-01-04', 30, 20)\")\n"
   ]
  },
  {
   "cell_type": "code",
   "execution_count": 86,
   "id": "0a7a6fe6",
   "metadata": {},
   "outputs": [
    {
     "data": {
      "text/plain": [
       "<sqlite3.Cursor at 0x2265b2b25c0>"
      ]
     },
     "execution_count": 86,
     "metadata": {},
     "output_type": "execute_result"
    }
   ],
   "source": [
    "# use cur.fetchall() to read rows in a list of tuples; compare rowlist[record][3] values for temperature\n",
    "rowlist=[]\n",
    "index=0\n",
    "cur.execute('SELECT * FROM WeatherTable')\n",
    "for record in cur :\n",
    "    rowlist=cur.fetchall()\n",
    "    #print(rowlist)\n",
    "    #if rowlist[record](2)\n",
    "    \n",
    "    index+= 1\n",
    "\n",
    "cur.execute('SELECT id FROM WeatherTable WHERE Temperature > yest_temp')\n"
   ]
  },
  {
   "cell_type": "code",
   "execution_count": null,
   "id": "0e21958c",
   "metadata": {},
   "outputs": [],
   "source": [
    "#Question 23 -  Recursive function for star pattern :"
   ]
  },
  {
   "cell_type": "code",
   "execution_count": 72,
   "id": "a8f18f44",
   "metadata": {},
   "outputs": [
    {
     "name": "stdout",
     "output_type": "stream",
     "text": [
      "Pattern n=0:  None\n",
      "*\n",
      "Pattern n=1:  None\n",
      "*\n",
      "**\n",
      "*\n",
      "Pattern n=2:  None\n",
      "*\n",
      "**\n",
      "*\n",
      "****\n",
      "*\n",
      "**\n",
      "*\n",
      "Pattern n=4:  None\n"
     ]
    }
   ],
   "source": [
    "def starpattern(indentamt, n):  \n",
    "    'recursive function to prints stars'\n",
    "    #if n=1:\n",
    "     #   print('*')\n",
    "    if n == 1 :\n",
    "        print('*')\n",
    "    elif n > 0 :\n",
    "        starpattern(indentamt,n//2)\n",
    "        print(n * '*')\n",
    "        starpattern(indentamt,n//2)\n",
    "    else : # n=0\n",
    "        return\n",
    "        \n",
    "  \n",
    "print('Pattern n=0: ', starpattern(0,0))\n",
    "print('Pattern n=1: ', starpattern(0,1))\n",
    "print('Pattern n=2: ', starpattern(0,2))\n",
    "print('Pattern n=4: ', starpattern(0,4))\n"
   ]
  },
  {
   "cell_type": "code",
   "execution_count": null,
   "id": "aa29fc2b",
   "metadata": {},
   "outputs": [],
   "source": []
  }
 ],
 "metadata": {
  "kernelspec": {
   "display_name": "Python 3 (ipykernel)",
   "language": "python",
   "name": "python3"
  },
  "language_info": {
   "codemirror_mode": {
    "name": "ipython",
    "version": 3
   },
   "file_extension": ".py",
   "mimetype": "text/x-python",
   "name": "python",
   "nbconvert_exporter": "python",
   "pygments_lexer": "ipython3",
   "version": "3.11.4"
  }
 },
 "nbformat": 4,
 "nbformat_minor": 5
}
